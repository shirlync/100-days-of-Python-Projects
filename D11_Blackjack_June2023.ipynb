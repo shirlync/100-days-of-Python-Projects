{
 "cells": [
  {
   "cell_type": "markdown",
   "id": "7595a796",
   "metadata": {},
   "source": [
    "# Blackjack Project"
   ]
  },
  {
   "cell_type": "code",
   "execution_count": 1,
   "id": "8c001b35",
   "metadata": {},
   "outputs": [],
   "source": [
    "## The deck is unlimited in size. \n",
    "## There are no jokers. \n",
    "## The Jack/Queen/King all count as 10.\n",
    "## The the Ace can count as 11 or 1.\n",
    "## Use the following list as the deck of cards:\n",
    "## cards = [11, 2, 3, 4, 5, 6, 7, 8, 9, 10, 10, 10, 10]\n",
    "## The cards in the list have equal probability of being drawn.\n",
    "## Cards are not removed from the deck as they are drawn.\n",
    "## The computer is the dealer."
   ]
  },
  {
   "cell_type": "code",
   "execution_count": 170,
   "id": "9673d7ff",
   "metadata": {},
   "outputs": [],
   "source": [
    "import random\n",
    "\n",
    "def deal_card():\n",
    "    cards = [11, 2, 3, 4, 5, 6, 7, 8, 9, 10, 10, 10, 10]\n",
    "    card = random.choice(cards)\n",
    "    return card\n",
    "\n",
    "def calculate_score(cards):\n",
    "    if sum(cards) == 21 and len(cards) == 2:\n",
    "        return 0\n",
    "    if 11 in cards and sum(cards) > 21:\n",
    "        cards.remove(11)\n",
    "        cards.append(1)\n",
    "    return sum(cards)\n",
    "\n",
    "def compare(user_score, computer_score):\n",
    "    if user_score > 21 and computer_score > 21:\n",
    "        return \"You went over. You lose 😤\"\n",
    "    elif user_score == computer_score:\n",
    "        return \"Draw 🙃\"\n",
    "    elif computer_score == 0:\n",
    "        return \"Lose, opponent has Blackjack 😱\"\n",
    "    elif user_score == 0:\n",
    "        return \"Win with a Blackjack 😎\"\n",
    "    elif user_score > 21:\n",
    "        return \"You went over. You lose 😭\"\n",
    "    elif computer_score > 21:\n",
    "        return \"Opponent went over. You win 😁\"\n",
    "    elif user_score > computer_score:\n",
    "        return \"You win 😃\"\n",
    "    else:\n",
    "        return \"You lose 😤\"\n",
    "\n",
    "def play_game():\n",
    "    \n",
    "    user_cards = []\n",
    "    computer_cards = []\n",
    "    is_game_over = False\n",
    "\n",
    "    for _ in range(2):\n",
    "        user_cards.append(deal_card())\n",
    "        computer_cards.append(deal_card())\n",
    "\n",
    "    while not is_game_over:\n",
    "        user_score = calculate_score(user_cards)\n",
    "        computer_score = calculate_score(computer_cards)\n",
    "        print(f\"Your cards: {user_cards}, current score: {user_score}\")\n",
    "        print(f\"Computer's first card: {computer_cards[0]}\")\n",
    "\n",
    "        if user_score == 0 or computer_score == 0 or user_score > 21:\n",
    "            is_game_over = True\n",
    "        else:\n",
    "            user_should_deal = input(\"Type 'y' to get another card, type 'n' to pass: \")\n",
    "            if user_should_deal == \"y\":\n",
    "                user_cards.append(deal_card())\n",
    "            else:\n",
    "                is_game_over = True\n",
    "\n",
    "    while computer_score != 0 and computer_score < 17:\n",
    "        computer_cards.append(deal_card())\n",
    "        computer_score = calculate_score(computer_cards)\n",
    "\n",
    "    print(f\"Your final hand: {user_cards}, final score: {user_score}\")\n",
    "    print(f\"Computer's final hand: {computer_cards}, final score: {computer_score}\")\n",
    "    print(compare(user_score, computer_score))"
   ]
  },
  {
   "cell_type": "code",
   "execution_count": null,
   "id": "df5487f1",
   "metadata": {},
   "outputs": [
    {
     "name": "stdout",
     "output_type": "stream",
     "text": [
      "Do you want to play a game of Blackjack? Type 'y' or 'n': y\n",
      "Your cards: [6, 2], current score: 8\n",
      "Computer's first card: 4\n",
      "Type 'y' to get another card, type 'n' to pass: y\n",
      "Your cards: [6, 2, 6], current score: 14\n",
      "Computer's first card: 4\n",
      "Type 'y' to get another card, type 'n' to pass: y\n",
      "Your cards: [6, 2, 6, 1], current score: 15\n",
      "Computer's first card: 4\n",
      "Type 'y' to get another card, type 'n' to pass: y\n",
      "Your cards: [6, 2, 6, 1, 4], current score: 19\n",
      "Computer's first card: 4\n",
      "Type 'y' to get another card, type 'n' to pass: n\n",
      "Your final hand: [6, 2, 6, 1, 4], final score: 19\n",
      "Computer's final hand: [4, 3, 11], final score: 18\n",
      "You win 😃\n"
     ]
    }
   ],
   "source": [
    "while input(\"Do you want to play a game of Blackjack? Type 'y' or 'n': \") == \"y\":\n",
    "  play_game()"
   ]
  },
  {
   "cell_type": "code",
   "execution_count": null,
   "id": "48706b07",
   "metadata": {},
   "outputs": [],
   "source": []
  }
 ],
 "metadata": {
  "kernelspec": {
   "display_name": "Python 3 (ipykernel)",
   "language": "python",
   "name": "python3"
  },
  "language_info": {
   "codemirror_mode": {
    "name": "ipython",
    "version": 3
   },
   "file_extension": ".py",
   "mimetype": "text/x-python",
   "name": "python",
   "nbconvert_exporter": "python",
   "pygments_lexer": "ipython3",
   "version": "3.10.9"
  }
 },
 "nbformat": 4,
 "nbformat_minor": 5
}
